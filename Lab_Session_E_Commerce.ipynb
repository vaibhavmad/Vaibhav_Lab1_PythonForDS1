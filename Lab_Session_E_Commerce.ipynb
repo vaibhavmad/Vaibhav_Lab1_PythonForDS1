{
 "cells": [
  {
   "cell_type": "markdown",
   "id": "2c8f47d3",
   "metadata": {
    "id": "2c8f47d3"
   },
   "source": [
    "# Lab Session"
   ]
  },
  {
   "cell_type": "markdown",
   "id": "f637aba6",
   "metadata": {
    "id": "f637aba6"
   },
   "source": [
    "## <font color='blue'> Table Of Contents </font>\n",
    "- Problem Statement\n",
    "- Load required libraries\n",
    "- Connect to DB using mysql-connector-python package\n",
    "- Create database named `e_commerce`\n",
    "- Create tables and insert data into tables as specified in the question\n",
    "- Read all the questions and write sql queries to meet the objective"
   ]
  },
  {
   "cell_type": "markdown",
   "id": "1073fc90",
   "metadata": {
    "id": "1073fc90"
   },
   "source": [
    "## <font color='blue'> Problem Statement </font>\n",
    "###  An E-commerce website manages its data in the form of various tables.\n",
    "You need to create a Database called `e_commerce` and various tables in it. The tables needed and attributes which need to be in every table are given before hand. All you have to do is create tables with data in it and answer some of the questions that follows."
   ]
  },
  {
   "cell_type": "markdown",
   "id": "d9abe6c7",
   "metadata": {
    "id": "d9abe6c7"
   },
   "source": [
    "### Load Required Libraries"
   ]
  },
  {
   "cell_type": "code",
   "execution_count": 2,
   "id": "0178d08e",
   "metadata": {
    "id": "0178d08e"
   },
   "outputs": [],
   "source": [
    "import mysql.connector\n",
    "import pandas as pd"
   ]
  },
  {
   "cell_type": "markdown",
   "id": "d7d7fd5c",
   "metadata": {
    "id": "d7d7fd5c"
   },
   "source": [
    "### Connect to DB using Mysql-connector-python package"
   ]
  },
  {
   "cell_type": "code",
   "execution_count": 3,
   "id": "ef7bef72",
   "metadata": {
    "id": "ef7bef72"
   },
   "outputs": [
    {
     "name": "stdout",
     "output_type": "stream",
     "text": [
      "<mysql.connector.connection_cext.CMySQLConnection object at 0x123cd08f0>\n"
     ]
    }
   ],
   "source": [
    "import mysql.connector\n",
    "\n",
    "mydb = mysql.connector.connect(\n",
    "    host = \"localhost\",\n",
    "    user = \"root\",\n",
    "    password = \"hellosql\",\n",
    "    auth_plugin = \"mysql_native_password\"\n",
    ")\n",
    "print(mydb)"
   ]
  },
  {
   "cell_type": "markdown",
   "id": "d458f443-d5a4-4ffe-ac66-197df55f086d",
   "metadata": {
    "id": "9d55e510"
   },
   "source": [
    "### You are required to create a database named 'e_commerce'"
   ]
  },
  {
   "cell_type": "code",
   "execution_count": 5,
   "id": "42a154f2",
   "metadata": {
    "id": "42a154f2"
   },
   "outputs": [],
   "source": [
    "import mysql.connector\n",
    "\n",
    "mydb = mysql.connector.connect(\n",
    "    host = \"localhost\",\n",
    "    user = \"root\",\n",
    "    password = \"hellosql\",\n",
    "    auth_plugin = \"mysql_native_password\"\n",
    ")\n",
    "\n",
    "cursorObject = mydb.cursor()\n",
    "cursorObject.execute(\"CREATE DATABASE e_commerce\")\n",
    "\n",
    "mydb.close()"
   ]
  },
  {
   "cell_type": "markdown",
   "id": "480dc986",
   "metadata": {
    "id": "480dc986"
   },
   "source": [
    "### Q1. Create tables for supplier, customer, category, product, productDetails, order, rating to store the data for the E-commerce with the schema definition given below.\n",
    "\n",
    "\n",
    "- **`supplier`**(SUPP_ID int primary key, SUPP_NAME varchar(50), SUPP_CITY varchar(50), SUPP_PHONE varchar(10))\n",
    "\n",
    "\n",
    "- **`customer`** (CUS_ID INT NOT NULL, CUS_NAME VARCHAR(20) NULL DEFAULT NULL, CUS_PHONE VARCHAR(10), CUS_CITY varchar(30) ,CUS_GENDER CHAR,PRIMARY KEY (CUS_ID))\n",
    "\n",
    "\n",
    "- **`category`** (CAT_ID INT NOT NULL, CAT_NAME VARCHAR(20) NULL DEFAULT NULL,PRIMARY KEY (CAT_ID))\n",
    "\n",
    "\n",
    "- **`product`** (PRO_ID INT NOT NULL, PRO_NAME VARCHAR(20) NULL DEFAULT NULL, PRO_DESC VARCHAR(60) NULL DEFAULT NULL, CAT_ID INT NOT NULL,PRIMARY KEY (PRO_ID),FOREIGN KEY (CAT_ID) REFERENCES CATEGORY (CAT_ID))\n",
    "\n",
    "\n",
    "- **`product_details`** (PROD_ID INT NOT NULL, PRO_ID INT NOT NULL, SUPP_ID INT NOT NULL, PROD_PRICE INT NOT NULL,\n",
    "  PRIMARY KEY (PROD_ID),FOREIGN KEY (PRO_ID) REFERENCES PRODUCT (PRO_ID), FOREIGN KEY (SUPP_ID) REFERENCES SUPPLIER(SUPP_ID))\n",
    "  \n",
    "  \n",
    "- **`order`** (ORD_ID INT NOT NULL, ORD_AMOUNT INT NOT NULL, ORD_DATE DATE, CUS_ID INT NOT NULL, PROD_ID INT NOT NULL,PRIMARY KEY (ORD_ID),FOREIGN KEY (CUS_ID) REFERENCES CUSTOMER(CUS_ID),FOREIGN KEY (PROD_ID) REFERENCES PRODUCT_DETAILS(PROD_ID))\n",
    "\n",
    "\n",
    "- **`rating`** (RAT_ID INT NOT NULL, CUS_ID INT NOT NULL, SUPP_ID INT NOT NULL, RAT_RATSTARS INT NOT NULL,PRIMARY KEY (RAT_ID),FOREIGN KEY (SUPP_ID) REFERENCES SUPPLIER (SUPP_ID),FOREIGN KEY (CUS_ID) REFERENCES CUSTOMER(CUS_ID))"
   ]
  },
  {
   "cell_type": "code",
   "execution_count": 8,
   "id": "967b718f",
   "metadata": {
    "id": "967b718f"
   },
   "outputs": [],
   "source": [
    "import mysql.connector\n",
    "\n",
    "mydb = mysql.connector.connect(\n",
    "    host = \"localhost\",\n",
    "    user = \"root\",\n",
    "    password = \"hellosql\",\n",
    "    database = \"e_commerce\",\n",
    "    auth_plugin = \"mysql_native_password\"\n",
    ")\n",
    "\n",
    "cursorObject = mydb.cursor()"
   ]
  },
  {
   "cell_type": "code",
   "execution_count": 9,
   "id": "0a5c19c0-d488-4bd5-b030-c3fda7422aa2",
   "metadata": {},
   "outputs": [],
   "source": [
    "table_creation_query = \"\"\"\n",
    "CREATE TABLE supplier (\n",
    "    `SUPP_ID` int PRIMARY KEY, \n",
    "    `SUPP_NAME` varchar(50), \n",
    "    `SUPP_CITY` varchar(50),\n",
    "    `SUPP_PHONE` varchar(10)\n",
    ");\n",
    "\n",
    "CREATE TABLE customer (\n",
    "    `CUS_ID` INT NOT NULL, \n",
    "    `CUS_NAME` varchar(20) NULL DEFAULT NULL, \n",
    "    `CUS_PHONE` varchar(10), \n",
    "    `CUS_CITY` varchar(30), \n",
    "    `CUS_GENDER` CHAR, \n",
    "    PRIMARY KEY (`CUS_ID`)\n",
    ");\n",
    "\n",
    "CREATE TABLE category (\n",
    "    `CAT_ID` INT NOT NULL, \n",
    "    `CAT_NAME` varchar(20) NULL DEFAULT NULL, \n",
    "    PRIMARY KEY (`CAT_ID`)\n",
    ");\n",
    "\n",
    "CREATE TABLE product (\n",
    "    `PRO_ID` INT NOT NULL,\n",
    "    `PRO_NAME` VARCHAR(20) NULL DEFAULT NULL,\n",
    "    `PRO_DESC` VARCHAR(60) NULL DEFAULT NULL,\n",
    "    `CAT_ID` INT NOT NULL,\n",
    "    PRIMARY KEY (`PRO_ID`),\n",
    "    FOREIGN KEY (`CAT_ID`) REFERENCES category (`CAT_ID`)\n",
    ");\n",
    "\n",
    "CREATE TABLE product_details (\n",
    "    `PROD_ID` INT NOT NULL,\n",
    "    `PRO_ID` INT NOT NULL,\n",
    "    `SUPP_ID` INT NOT NULL,\n",
    "    `PROD_PRICE` INT NOT NULL,\n",
    "    PRIMARY KEY (`PROD_ID`),\n",
    "    FOREIGN KEY (`PRO_ID`) REFERENCES product (`PRO_ID`),\n",
    "    FOREIGN KEY (`SUPP_ID`) REFERENCES supplier (`SUPP_ID`)\n",
    ");\n",
    "\n",
    "CREATE TABLE `orders` (\n",
    "    `ORD_ID` INT NOT NULL,\n",
    "    `ORD_AMOUNT` INT NOT NULL,\n",
    "    `ORD_DATE` DATE,\n",
    "    `CUS_ID` INT NOT NULL,\n",
    "    `PROD_ID` INT NOT NULL,\n",
    "    PRIMARY KEY (`ORD_ID`),\n",
    "    FOREIGN KEY (`CUS_ID`) REFERENCES customer (`CUS_ID`),\n",
    "    FOREIGN KEY (`PROD_ID`) REFERENCES product_details (`PROD_ID`)\n",
    ");\n",
    "\n",
    "CREATE TABLE rating (\n",
    "    `RAT_ID` INT NOT NULL,\n",
    "    `CUS_ID` INT NOT NULL,\n",
    "    `SUPP_ID` INT NOT NULL,\n",
    "    `RAT_RATSTARS` INT NOT NULL,\n",
    "    PRIMARY KEY (`RAT_ID`),\n",
    "    FOREIGN KEY (`SUPP_ID`) REFERENCES supplier (`SUPP_ID`),\n",
    "    FOREIGN KEY (`CUS_ID`) REFERENCES customer (`CUS_ID`)\n",
    ");\n",
    "\"\"\"\n",
    "\n",
    "cursorObject.execute(table_creation_query)"
   ]
  },
  {
   "cell_type": "markdown",
   "id": "1f653731",
   "metadata": {
    "id": "1f653731"
   },
   "source": [
    "### Q2. Insert the following data in the table created above\n",
    "#### `Note:` If you are getting any error while inserting the data into tables, Kindly close the connection and reconnect\n",
    "\n",
    "#### Table:  supplier\n",
    "| SUPP_ID | SUPP_NAME | SUPP_CITY | SUPP_PHONE |\n",
    "| --- | --- | --- | --- |\n",
    "| 1 | Rajesh Retails | Delhi | 1234567890 |\n",
    "| 2 | Appario Ltd. | Mumbai | 258963147032 |\n",
    "| 3 | Knome products | Bangalore | 9785462315 |\n",
    "| 4 | Bansal Retails | Kochi | 8975463285 |\n",
    "| 5 | Mittal Ltd. | Lucknow | 7898456532 |"
   ]
  },
  {
   "cell_type": "code",
   "execution_count": 22,
   "id": "f6dddd07",
   "metadata": {
    "id": "f6dddd07"
   },
   "outputs": [
    {
     "name": "stdout",
     "output_type": "stream",
     "text": [
      "Data inserted successfully!\n"
     ]
    }
   ],
   "source": [
    "import mysql.connector\n",
    "\n",
    "mydb = mysql.connector.connect(\n",
    "    host=\"localhost\",\n",
    "    user=\"root\",\n",
    "    password=\"hellosql\",  \n",
    "    database=\"e_commerce\" \n",
    ")\n",
    "\n",
    "cursorObject = mydb.cursor()\n",
    "\n",
    "insert_query = \"INSERT INTO supplier (SUPP_ID, SUPP_NAME, SUPP_CITY, SUPP_PHONE) VALUES (%s, %s, %s, %s)\"\n",
    "val = [\n",
    "    (1, 'Rajesh Retails', 'Delhi', '1234567890'),\n",
    "    (2, 'Appario Ltd.', 'Mumbai', '2589631470'),\n",
    "    (3, 'Knome products', 'Bangalore', '9785462315'),\n",
    "    (4, 'Bansal Retails', 'Kochi', '8975463285'),\n",
    "    (5, 'Mittal Ltd.', 'Lucknow', '7898456532')\n",
    "]\n",
    "\n",
    "try:\n",
    "    \n",
    "    cursorObject.executemany(insert_query, val)\n",
    "\n",
    "    \n",
    "    mydb.commit()\n",
    "\n",
    "    print(\"Data inserted successfully!\")\n",
    "\n",
    "except mysql.connector.Error as err:\n",
    "    print(f\"Error: {err}\")\n",
    "    mydb.rollback()\n",
    "\n",
    "finally:\n",
    "    \n",
    "    cursorObject.close()\n",
    "    mydb.close()"
   ]
  },
  {
   "cell_type": "markdown",
   "id": "e8a070a6",
   "metadata": {
    "id": "e8a070a6"
   },
   "source": [
    "#### Table:  customer\n",
    "| CUS_ID | CUS_NAME | SUPP_PHONE | CUS_CITY | CUS_GENDER\n",
    "| --- | --- | --- | --- | --- |\n",
    "| 1 | AAKASH | 9999999999 | DELHI | M |\n",
    "| 2 | AMAN | 9785463215 | NOIDA | M |\n",
    "| 3 | NEHA | 9999999998 | MUMBAI | F |\n",
    "| 4 | MEGHA | 9994562399 | KOLKATA | F |\n",
    "| 5 | PULKIT | 7895999999 | LUCKNOW | M |"
   ]
  },
  {
   "cell_type": "code",
   "execution_count": 24,
   "id": "15a4ee87",
   "metadata": {
    "id": "15a4ee87"
   },
   "outputs": [
    {
     "name": "stdout",
     "output_type": "stream",
     "text": [
      "Successfully connected to MySQL!\n",
      "Data inserted into customer table successfully!\n"
     ]
    }
   ],
   "source": [
    "import mysql.connector\n",
    "\n",
    "\n",
    "mydb = mysql.connector.connect(\n",
    "    host=\"localhost\",\n",
    "    user=\"root\",  \n",
    "    password=\"hellosql\",  \n",
    "    database=\"e_commerce\"  \n",
    ")\n",
    "\n",
    "\n",
    "if mydb.is_connected():\n",
    "    print(\"Successfully connected to MySQL!\")\n",
    "else:\n",
    "    print(\"Failed to connect to MySQL!\")\n",
    "\n",
    "\n",
    "insert_query_customer = \"\"\"\n",
    "INSERT INTO customer (CUS_ID, CUS_NAME, CUS_PHONE, CUS_CITY, CUS_GENDER)\n",
    "VALUES (%s, %s, %s, %s, %s)\n",
    "\"\"\"\n",
    "\n",
    "val_customer = [\n",
    "    (1, 'AAKASH', '9999999999', 'DELHI', 'M'),\n",
    "    (2, 'AMAN', '9785463215', 'NOIDA', 'M'),\n",
    "    (3, 'NEHA', '9999999998', 'MUMBAI', 'F'),\n",
    "    (4, 'MEGHA', '9994562399', 'KOLKATA', 'F'),\n",
    "    (5, 'PULKIT', '7895999999', 'LUCKNOW', 'M')\n",
    "]\n",
    "\n",
    "\n",
    "cursorObject = mydb.cursor()\n",
    "\n",
    "try:\n",
    "    \n",
    "    cursorObject.executemany(insert_query_customer, val_customer)\n",
    "\n",
    "    \n",
    "    mydb.commit()\n",
    "\n",
    "    print(\"Data inserted into customer table successfully!\")\n",
    "\n",
    "except mysql.connector.Error as err:\n",
    "    print(f\"Error: {err}\")\n",
    "    mydb.rollback()\n",
    "\n",
    "finally:\n",
    "    \n",
    "    cursorObject.close()\n",
    "    mydb.close()"
   ]
  },
  {
   "cell_type": "markdown",
   "id": "b68bfbc2",
   "metadata": {
    "id": "b68bfbc2"
   },
   "source": [
    "#### Table:  category\n",
    "| CAT_ID | CAT_NAME |\n",
    "| --- | --- |  \n",
    "| 1 | BOOKS |\n",
    "| 2 | GAMES |  \n",
    "| 3 | GROCERIES |\n",
    "| 4 | ELECTRONICS |\n",
    "| 5 | CLOTHES |"
   ]
  },
  {
   "cell_type": "code",
   "execution_count": 25,
   "id": "05a00abc",
   "metadata": {
    "id": "05a00abc"
   },
   "outputs": [
    {
     "name": "stdout",
     "output_type": "stream",
     "text": [
      "Data inserted into category table successfully!\n"
     ]
    }
   ],
   "source": [
    "\n",
    "mydb = mysql.connector.connect(\n",
    "    host=\"localhost\",\n",
    "    user=\"root\", \n",
    "    password=\"hellosql\",  \n",
    "    database=\"e_commerce\" \n",
    ")\n",
    "\n",
    "\n",
    "insert_query_category = \"\"\"\n",
    "INSERT INTO category (CAT_ID, CAT_NAME)\n",
    "VALUES (%s, %s)\n",
    "\"\"\"\n",
    "\n",
    "val_category = [\n",
    "    (1, 'BOOKS'),\n",
    "    (2, 'GAMES'),\n",
    "    (3, 'GROCERIES'),\n",
    "    (4, 'ELECTRONICS'),\n",
    "    (5, 'CLOTHES')\n",
    "]\n",
    "\n",
    "\n",
    "cursorObject = mydb.cursor()\n",
    "\n",
    "try:\n",
    "    \n",
    "    cursorObject.executemany(insert_query_category, val_category)\n",
    "\n",
    "    \n",
    "    mydb.commit()\n",
    "\n",
    "    print(\"Data inserted into category table successfully!\")\n",
    "\n",
    "except mysql.connector.Error as err:\n",
    "    print(f\"Error: {err}\")\n",
    "    mydb.rollback()\n",
    "\n",
    "finally:\n",
    "    \n",
    "    cursorObject.close()\n",
    "    mydb.close()"
   ]
  },
  {
   "cell_type": "markdown",
   "id": "eb3bc592",
   "metadata": {
    "id": "eb3bc592"
   },
   "source": [
    "#### Table:  product\n",
    "| PRO_ID | PRO_NAME | PRO_DESC | CAT_ID |\n",
    "| --- | --- | --- | --- |\n",
    "| 1 | GTA V | DFJDJFDJFDJFDJFJF | 2 |\n",
    "| 2 | TSHIRT | DFDFJDFJDKFD | 5 |\n",
    "| 3 | ROG LAPTOP | DFNTTNTNTERND | 4 |\n",
    "| 4 | OATS | REURENTBTOTH | 3 |\n",
    "| 5 | HARRY POTTER | NBEMCTHTJTH | 1 |\n"
   ]
  },
  {
   "cell_type": "code",
   "execution_count": 26,
   "id": "cdfbdfad",
   "metadata": {
    "id": "cdfbdfad"
   },
   "outputs": [
    {
     "name": "stdout",
     "output_type": "stream",
     "text": [
      "Data inserted into product table successfully!\n"
     ]
    }
   ],
   "source": [
    "\n",
    "mydb = mysql.connector.connect(\n",
    "    host=\"localhost\",\n",
    "    user=\"root\",  \n",
    "    password=\"hellosql\",  \n",
    "    database=\"e_commerce\" \n",
    ")\n",
    "\n",
    "\n",
    "insert_query_product = \"\"\"\n",
    "INSERT INTO product (PRO_ID, PRO_NAME, PRO_DESC, CAT_ID)\n",
    "VALUES (%s, %s, %s, %s)\n",
    "\"\"\"\n",
    "\n",
    "val_product = [\n",
    "    (1, 'GTA V', 'DFJDJFDJFDJFDJFJF', 2),\n",
    "    (2, 'TSHIRT', 'DFDFJDFJDKFD', 5),\n",
    "    (3, 'ROG LAPTOP', 'DFNTTNTNTERND', 4),\n",
    "    (4, 'OATS', 'REURENTBTOTH', 3),\n",
    "    (5, 'HARRY POTTER', 'NBEMCTHTJTH', 1)\n",
    "]\n",
    "\n",
    "\n",
    "cursorObject = mydb.cursor()\n",
    "\n",
    "try:\n",
    "    \n",
    "    cursorObject.executemany(insert_query_product, val_product)\n",
    "\n",
    "    \n",
    "    mydb.commit()\n",
    "\n",
    "    print(\"Data inserted into product table successfully!\")\n",
    "\n",
    "except mysql.connector.Error as err:\n",
    "    print(f\"Error: {err}\")\n",
    "    mydb.rollback()\n",
    "\n",
    "finally:\n",
    "    \n",
    "    cursorObject.close()\n",
    "    mydb.close()"
   ]
  },
  {
   "cell_type": "markdown",
   "id": "cfa8a47d",
   "metadata": {
    "id": "cfa8a47d"
   },
   "source": [
    "#### Table:  product_details\n",
    "| PROD_ID | PRO_ID | SUPP_ID | PROD_PRICE |\n",
    "| --- | --- | --- | --- |\n",
    "| 1 | 1 | 2 | 1500 |\n",
    "| 2 | 3 | 5 | 30000 |\n",
    "| 3 | 5 | 1 | 3000 |\n",
    "| 4 | 2 | 3 | 2500 |\n",
    "| 5 | 4 | 1 | 1000 |"
   ]
  },
  {
   "cell_type": "code",
   "execution_count": 27,
   "id": "c18ea964",
   "metadata": {
    "id": "c18ea964"
   },
   "outputs": [
    {
     "name": "stdout",
     "output_type": "stream",
     "text": [
      "Data inserted into product_details table successfully!\n"
     ]
    }
   ],
   "source": [
    "\n",
    "mydb = mysql.connector.connect(\n",
    "    host=\"localhost\",\n",
    "    user=\"root\",  \n",
    "    password=\"hellosql\",  \n",
    "    database=\"e_commerce\" \n",
    ")\n",
    "\n",
    "\n",
    "insert_query_product_details = \"\"\"\n",
    "INSERT INTO product_details (PROD_ID, PRO_ID, SUPP_ID, PROD_PRICE)\n",
    "VALUES (%s, %s, %s, %s)\n",
    "\"\"\"\n",
    "\n",
    "val_product_details = [\n",
    "    (1, 1, 2, 1500),\n",
    "    (2, 3, 5, 30000),\n",
    "    (3, 5, 1, 3000),\n",
    "    (4, 2, 3, 2500),\n",
    "    (5, 4, 1, 1000)\n",
    "]\n",
    "\n",
    "\n",
    "cursorObject = mydb.cursor()\n",
    "\n",
    "try:\n",
    "    \n",
    "    cursorObject.executemany(insert_query_product_details, val_product_details)\n",
    "\n",
    "    \n",
    "    mydb.commit()\n",
    "\n",
    "    print(\"Data inserted into product_details table successfully!\")\n",
    "\n",
    "except mysql.connector.Error as err:\n",
    "    print(f\"Error: {err}\")\n",
    "    mydb.rollback()\n",
    "\n",
    "finally:\n",
    "    \n",
    "    cursorObject.close()\n",
    "    mydb.close()"
   ]
  },
  {
   "cell_type": "markdown",
   "id": "1df49086",
   "metadata": {
    "id": "1df49086"
   },
   "source": [
    "#### Table:  orders\n",
    "| ORD_ID | ORD_AMOUNT | ORD_DATE | CUS_ID | PROD_ID\n",
    "| --- | --- | --- | --- | --- |\n",
    "| 20 | 1500 | 2021-10-12 | 3 | 5 |\n",
    "| 25 | 30500 | 2021-09-16 | 5 | 2 |\n",
    "| 26 | 2000 | 2021-10-05 | 1 | 1 |\n",
    "| 30 | 3500 | 2021-08-16 | 4 | 3 |\n",
    "| 50 | 2000 | 2021-10-06 | 2 | 1 |"
   ]
  },
  {
   "cell_type": "code",
   "execution_count": 28,
   "id": "0d97dc92",
   "metadata": {
    "id": "0d97dc92"
   },
   "outputs": [
    {
     "name": "stdout",
     "output_type": "stream",
     "text": [
      "Data inserted into orders table successfully!\n"
     ]
    }
   ],
   "source": [
    "\n",
    "\n",
    "mydb = mysql.connector.connect(\n",
    "    host=\"localhost\",\n",
    "    user=\"root\",  \n",
    "    password=\"hellosql\",  \n",
    "    database=\"e_commerce\" \n",
    ")\n",
    "\n",
    "\n",
    "insert_query_orders = \"\"\"\n",
    "INSERT INTO orders (ORD_ID, ORD_AMOUNT, ORD_DATE, CUS_ID, PROD_ID)\n",
    "VALUES (%s, %s, %s, %s, %s)\n",
    "\"\"\"\n",
    "\n",
    "val_orders = [\n",
    "    (20, 1500, '2021-10-12', 3, 5),\n",
    "    (25, 30500, '2021-09-16', 5, 2),\n",
    "    (26, 2000, '2021-10-05', 1, 1),\n",
    "    (30, 3500, '2021-08-16', 4, 3),\n",
    "    (50, 2000, '2021-10-06', 2, 1)\n",
    "]\n",
    "\n",
    "\n",
    "cursorObject = mydb.cursor()\n",
    "\n",
    "try:\n",
    "    \n",
    "    cursorObject.executemany(insert_query_orders, val_orders)\n",
    "\n",
    "    \n",
    "    mydb.commit()\n",
    "\n",
    "    print(\"Data inserted into orders table successfully!\")\n",
    "\n",
    "except mysql.connector.Error as err:\n",
    "    print(f\"Error: {err}\")\n",
    "    mydb.rollback()\n",
    "\n",
    "finally:\n",
    "    \n",
    "    cursorObject.close()\n",
    "    mydb.close()"
   ]
  },
  {
   "cell_type": "markdown",
   "id": "75b8ce5f",
   "metadata": {
    "id": "75b8ce5f"
   },
   "source": [
    "#### Table: rating\n",
    "| RAT_ID | CUS_ID | SUPP_ID | RAT_RATSTARS |\n",
    "| --- | --- | --- | --- |\n",
    "| 1 | 2 | 2 | 4 |\n",
    "| 2 | 3 | 4 | 3 |\n",
    "| 3 | 5 | 1 | 5 |\n",
    "| 4 | 1 | 3 | 2 |\n",
    "| 5 | 4 | 5 | 4 |"
   ]
  },
  {
   "cell_type": "code",
   "execution_count": 29,
   "id": "6d5f1e18",
   "metadata": {
    "id": "6d5f1e18"
   },
   "outputs": [
    {
     "name": "stdout",
     "output_type": "stream",
     "text": [
      "Data inserted into rating table successfully!\n"
     ]
    }
   ],
   "source": [
    "mydb = mysql.connector.connect(\n",
    "    host=\"localhost\",\n",
    "    user=\"root\",  \n",
    "    password=\"hellosql\",  \n",
    "    database=\"e_commerce\" \n",
    ")\n",
    "\n",
    "\n",
    "insert_query_rating = \"\"\"\n",
    "INSERT INTO rating (RAT_ID, CUS_ID, SUPP_ID, RAT_RATSTARS)\n",
    "VALUES (%s, %s, %s, %s)\n",
    "\"\"\"\n",
    "\n",
    "val_rating = [\n",
    "    (1, 2, 2, 4),\n",
    "    (2, 3, 4, 3),\n",
    "    (3, 5, 1, 5),\n",
    "    (4, 1, 3, 2),\n",
    "    (5, 4, 5, 4)\n",
    "]\n",
    "\n",
    "\n",
    "cursorObject = mydb.cursor()\n",
    "\n",
    "try:\n",
    "    \n",
    "    cursorObject.executemany(insert_query_rating, val_rating)\n",
    "\n",
    "    \n",
    "    mydb.commit()\n",
    "\n",
    "    print(\"Data inserted into rating table successfully!\")\n",
    "\n",
    "except mysql.connector.Error as err:\n",
    "    print(f\"Error: {err}\")\n",
    "    mydb.rollback()\n",
    "\n",
    "finally:\n",
    "    \n",
    "    cursorObject.close()\n",
    "    mydb.close()"
   ]
  },
  {
   "cell_type": "markdown",
   "id": "b59361c3",
   "metadata": {
    "id": "b59361c3"
   },
   "source": [
    "### Q3) Display the number of the customer group by their genders who have placed any order of amount greater than or equal to Rs.3000."
   ]
  },
  {
   "cell_type": "code",
   "execution_count": 30,
   "id": "fcafaf3c",
   "metadata": {
    "id": "fcafaf3c"
   },
   "outputs": [
    {
     "name": "stdout",
     "output_type": "stream",
     "text": [
      "Gender: M, Number of Customers: 1\n",
      "Gender: F, Number of Customers: 1\n"
     ]
    }
   ],
   "source": [
    "mydb = mysql.connector.connect(\n",
    "    host=\"localhost\",\n",
    "    user=\"root\",  \n",
    "    password=\"hellosql\",  \n",
    "    database=\"e_commerce\" \n",
    ")\n",
    "\n",
    "cursorObject = mydb.cursor()\n",
    "\n",
    "\n",
    "query = \"\"\"\n",
    "SELECT c.CUS_GENDER, COUNT(c.CUS_ID) AS customer_count\n",
    "FROM customer c\n",
    "JOIN orders o ON c.CUS_ID = o.CUS_ID\n",
    "WHERE o.ORD_AMOUNT >= 3000\n",
    "GROUP BY c.CUS_GENDER;\n",
    "\"\"\"\n",
    "\n",
    "\n",
    "cursorObject.execute(query)\n",
    "\n",
    "\n",
    "result = cursorObject.fetchall()\n",
    "for row in result:\n",
    "    print(f\"Gender: {row[0]}, Number of Customers: {row[1]}\")\n",
    "\n",
    "\n",
    "cursorObject.close()\n",
    "mydb.close()"
   ]
  },
  {
   "cell_type": "markdown",
   "id": "e49e04f5",
   "metadata": {
    "id": "e49e04f5"
   },
   "source": [
    "### Q4) Display all the order along with product name ordered by a customer having Customer_Id=2;"
   ]
  },
  {
   "cell_type": "code",
   "execution_count": 31,
   "id": "9dcb7883",
   "metadata": {
    "id": "9dcb7883"
   },
   "outputs": [
    {
     "name": "stdout",
     "output_type": "stream",
     "text": [
      "Order ID: 50, Amount: 2000, Date: 2021-10-06, Product Name: GTA V\n"
     ]
    }
   ],
   "source": [
    "mydb = mysql.connector.connect(\n",
    "    host=\"localhost\",\n",
    "    user=\"root\", \n",
    "    password=\"hellosql\", \n",
    "    database=\"e_commerce\"  \n",
    ")\n",
    "\n",
    "\n",
    "cursorObject = mydb.cursor()\n",
    "\n",
    "\n",
    "query = \"\"\"\n",
    "SELECT o.ORD_ID, o.ORD_AMOUNT, o.ORD_DATE, p.PRO_NAME\n",
    "FROM orders o\n",
    "JOIN product_details pd ON o.PROD_ID = pd.PROD_ID\n",
    "JOIN product p ON pd.PRO_ID = p.PRO_ID\n",
    "WHERE o.CUS_ID = 2;\n",
    "\"\"\"\n",
    "\n",
    "\n",
    "cursorObject.execute(query)\n",
    "\n",
    "\n",
    "result = cursorObject.fetchall()\n",
    "for row in result:\n",
    "    print(f\"Order ID: {row[0]}, Amount: {row[1]}, Date: {row[2]}, Product Name: {row[3]}\")\n",
    "\n",
    "\n",
    "cursorObject.close()\n",
    "mydb.close()"
   ]
  },
  {
   "cell_type": "markdown",
   "id": "3a33398e",
   "metadata": {
    "id": "3a33398e"
   },
   "source": [
    "### Q5) Display the Supplier details who can supply more than one product."
   ]
  },
  {
   "cell_type": "code",
   "execution_count": 33,
   "id": "e933b979",
   "metadata": {
    "id": "e933b979"
   },
   "outputs": [
    {
     "name": "stdout",
     "output_type": "stream",
     "text": [
      "Supplier ID: 1, Name: Rajesh Retails, City: Delhi, Phone: 1234567890\n"
     ]
    }
   ],
   "source": [
    "mydb = mysql.connector.connect(\n",
    "    host=\"localhost\",\n",
    "    user=\"root\",  \n",
    "    password=\"hellosql\",  \n",
    "    database=\"e_commerce\"  \n",
    ")\n",
    "\n",
    "\n",
    "cursorObject = mydb.cursor()\n",
    "\n",
    "\n",
    "query = \"\"\"\n",
    "SELECT s.SUPP_ID, s.SUPP_NAME, s.SUPP_CITY, s.SUPP_PHONE\n",
    "FROM supplier s\n",
    "JOIN product_details pd ON s.SUPP_ID = pd.SUPP_ID\n",
    "GROUP BY s.SUPP_ID, s.SUPP_NAME, s.SUPP_CITY, s.SUPP_PHONE\n",
    "HAVING COUNT(pd.PROD_ID) > 1;\n",
    "\"\"\"\n",
    "\n",
    "\n",
    "cursorObject.execute(query)\n",
    "\n",
    "\n",
    "result = cursorObject.fetchall()\n",
    "for row in result:\n",
    "    print(f\"Supplier ID: {row[0]}, Name: {row[1]}, City: {row[2]}, Phone: {row[3]}\")\n",
    "\n",
    "\n",
    "cursorObject.close()\n",
    "mydb.close()"
   ]
  },
  {
   "cell_type": "markdown",
   "id": "5fd319ef",
   "metadata": {
    "id": "5fd319ef"
   },
   "source": [
    "### Q6) Find the category of the product whose order amount is minimum."
   ]
  },
  {
   "cell_type": "code",
   "execution_count": 34,
   "id": "06f5cb51",
   "metadata": {
    "id": "06f5cb51"
   },
   "outputs": [
    {
     "name": "stdout",
     "output_type": "stream",
     "text": [
      "The category of the product with the minimum order amount is: GROCERIES\n"
     ]
    }
   ],
   "source": [
    "mydb = mysql.connector.connect(\n",
    "    host=\"localhost\",\n",
    "    user=\"root\",  \n",
    "    password=\"hellosql\",\n",
    "    database=\"e_commerce\"  \n",
    ")\n",
    "\n",
    "\n",
    "cursorObject = mydb.cursor()\n",
    "\n",
    "\n",
    "query = \"\"\"\n",
    "SELECT c.CAT_NAME\n",
    "FROM orders o\n",
    "JOIN product_details pd ON o.PROD_ID = pd.PROD_ID\n",
    "JOIN product p ON pd.PRO_ID = p.PRO_ID\n",
    "JOIN category c ON p.CAT_ID = c.CAT_ID\n",
    "ORDER BY o.ORD_AMOUNT ASC\n",
    "LIMIT 1;\n",
    "\"\"\"\n",
    "\n",
    "\n",
    "cursorObject.execute(query)\n",
    "\n",
    "\n",
    "result = cursorObject.fetchone()\n",
    "print(f\"The category of the product with the minimum order amount is: {result[0]}\")\n",
    "\n",
    "\n",
    "cursorObject.close()\n",
    "mydb.close()"
   ]
  },
  {
   "cell_type": "markdown",
   "id": "107102d4",
   "metadata": {
    "id": "107102d4"
   },
   "source": [
    "### Q7) Display the Id and Name of the Product ordered after “2021-10-05”."
   ]
  },
  {
   "cell_type": "code",
   "execution_count": 36,
   "id": "5d3fc7e8",
   "metadata": {
    "id": "5d3fc7e8"
   },
   "outputs": [
    {
     "name": "stdout",
     "output_type": "stream",
     "text": [
      "Product ID: 4, Product Name: OATS\n",
      "Product ID: 1, Product Name: GTA V\n"
     ]
    }
   ],
   "source": [
    "mydb = mysql.connector.connect(\n",
    "    host=\"localhost\",\n",
    "    user=\"root\", \n",
    "    password=\"hellosql\", \n",
    "    database=\"e_commerce\"  \n",
    ")\n",
    "\n",
    "\n",
    "cursorObject = mydb.cursor()\n",
    "\n",
    "\n",
    "query = \"\"\"\n",
    "SELECT p.PRO_ID, p.PRO_NAME\n",
    "FROM orders o\n",
    "JOIN product_details pd ON o.PROD_ID = pd.PROD_ID\n",
    "JOIN product p ON pd.PRO_ID = p.PRO_ID\n",
    "WHERE o.ORD_DATE > '2021-10-05';\n",
    "\"\"\"\n",
    "\n",
    "\n",
    "cursorObject.execute(query)\n",
    "\n",
    "\n",
    "result = cursorObject.fetchall()\n",
    "\n",
    "\n",
    "for row in result:\n",
    "    print(f\"Product ID: {row[0]}, Product Name: {row[1]}\")\n",
    "\n",
    "\n",
    "cursorObject.close()\n",
    "mydb.close()"
   ]
  },
  {
   "cell_type": "markdown",
   "id": "bdce7167",
   "metadata": {
    "id": "bdce7167"
   },
   "source": [
    "### Q8) Print the top 3 supplier name and id and rating on the basis of their rating along with the customer name who has given the rating."
   ]
  },
  {
   "cell_type": "code",
   "execution_count": 37,
   "id": "fa0cbe44",
   "metadata": {
    "id": "fa0cbe44"
   },
   "outputs": [
    {
     "name": "stdout",
     "output_type": "stream",
     "text": [
      "Supplier ID: 1, Supplier Name: Rajesh Retails, Rating: 5, Customer Name: PULKIT\n",
      "Supplier ID: 2, Supplier Name: Appario Ltd., Rating: 4, Customer Name: AMAN\n",
      "Supplier ID: 5, Supplier Name: Mittal Ltd., Rating: 4, Customer Name: MEGHA\n"
     ]
    }
   ],
   "source": [
    "mydb = mysql.connector.connect(\n",
    "    host=\"localhost\",\n",
    "    user=\"root\",  \n",
    "    password=\"hellosql\", \n",
    "    database=\"e_commerce\" \n",
    ")\n",
    "\n",
    "\n",
    "cursorObject = mydb.cursor()\n",
    "\n",
    "\n",
    "query = \"\"\"\n",
    "SELECT s.SUPP_ID, s.SUPP_NAME, r.RAT_RATSTARS, c.CUS_NAME\n",
    "FROM rating r\n",
    "JOIN supplier s ON r.SUPP_ID = s.SUPP_ID\n",
    "JOIN customer c ON r.CUS_ID = c.CUS_ID\n",
    "ORDER BY r.RAT_RATSTARS DESC\n",
    "LIMIT 3;\n",
    "\"\"\"\n",
    "\n",
    "\n",
    "cursorObject.execute(query)\n",
    "\n",
    "\n",
    "result = cursorObject.fetchall()\n",
    "\n",
    "\n",
    "for row in result:\n",
    "    print(f\"Supplier ID: {row[0]}, Supplier Name: {row[1]}, Rating: {row[2]}, Customer Name: {row[3]}\")\n",
    "\n",
    "\n",
    "cursorObject.close()\n",
    "mydb.close()"
   ]
  },
  {
   "cell_type": "markdown",
   "id": "bee11da1-d37f-4003-a85b-c89dabc00634",
   "metadata": {
    "id": "346ec2a1"
   },
   "source": [
    "Q9) Display customer name and gender whose names start or end with character 'A'."
   ]
  },
  {
   "cell_type": "markdown",
   "id": "12bd23af-f830-444a-92be-d1b971435c4d",
   "metadata": {
    "id": "346ec2a1"
   },
   "source": [
    "Q9) Display customer name and gender whose names start or end with character 'A'."
   ]
  },
  {
   "cell_type": "code",
   "execution_count": 38,
   "id": "e571b5fd",
   "metadata": {
    "id": "e571b5fd"
   },
   "outputs": [
    {
     "name": "stdout",
     "output_type": "stream",
     "text": [
      "Customer Name: AAKASH, Gender: M\n",
      "Customer Name: AMAN, Gender: M\n",
      "Customer Name: NEHA, Gender: F\n",
      "Customer Name: MEGHA, Gender: F\n"
     ]
    }
   ],
   "source": [
    "mydb = mysql.connector.connect(\n",
    "    host=\"localhost\",\n",
    "    user=\"root\",  \n",
    "    password=\"hellosql\",  \n",
    "    database=\"e_commerce\"  \n",
    ")\n",
    "\n",
    "\n",
    "cursorObject = mydb.cursor()\n",
    "\n",
    "\n",
    "query = \"\"\"\n",
    "SELECT CUS_NAME, CUS_GENDER\n",
    "FROM customer\n",
    "WHERE CUS_NAME LIKE 'A%' OR CUS_NAME LIKE '%A';\n",
    "\"\"\"\n",
    "\n",
    "\n",
    "cursorObject.execute(query)\n",
    "\n",
    "\n",
    "result = cursorObject.fetchall()\n",
    "\n",
    "\n",
    "for row in result:\n",
    "    print(f\"Customer Name: {row[0]}, Gender: {row[1]}\")\n",
    "\n",
    "\n",
    "cursorObject.close()\n",
    "mydb.close()"
   ]
  },
  {
   "cell_type": "markdown",
   "id": "d0b01f77",
   "metadata": {
    "id": "d0b01f77"
   },
   "source": [
    "### Q10) Display the total order amount of the male customers."
   ]
  },
  {
   "cell_type": "code",
   "execution_count": 39,
   "id": "c3fa76e3",
   "metadata": {
    "id": "c3fa76e3"
   },
   "outputs": [
    {
     "name": "stdout",
     "output_type": "stream",
     "text": [
      "Total Order Amount of Male Customers: 34500\n"
     ]
    }
   ],
   "source": [
    "mydb = mysql.connector.connect(\n",
    "    host=\"localhost\",\n",
    "    user=\"root\",  \n",
    "    password=\"hellosql\",  \n",
    "    database=\"e_commerce\"  \n",
    ")\n",
    "\n",
    "\n",
    "cursorObject = mydb.cursor()\n",
    "\n",
    "\n",
    "query = \"\"\"\n",
    "SELECT SUM(o.ORD_AMOUNT) AS total_order_amount\n",
    "FROM orders o\n",
    "JOIN customer c ON o.CUS_ID = c.CUS_ID\n",
    "WHERE c.CUS_GENDER = 'M';\n",
    "\"\"\"\n",
    "\n",
    "\n",
    "cursorObject.execute(query)\n",
    "\n",
    "\n",
    "result = cursorObject.fetchone()\n",
    "\n",
    "\n",
    "print(f\"Total Order Amount of Male Customers: {result[0]}\")\n",
    "\n",
    "\n",
    "cursorObject.close()\n",
    "mydb.close()"
   ]
  },
  {
   "cell_type": "markdown",
   "id": "ff8a9971",
   "metadata": {
    "id": "ff8a9971"
   },
   "source": [
    "### Q11) Display all the Customers left outer join with  the orders"
   ]
  },
  {
   "cell_type": "code",
   "execution_count": 40,
   "id": "a340c6d6",
   "metadata": {
    "id": "a340c6d6"
   },
   "outputs": [
    {
     "name": "stdout",
     "output_type": "stream",
     "text": [
      "Customer ID: 1, Name: AAKASH, Phone: 9999999999, City: DELHI, Gender: M, Order ID: 26, Order Amount: 2000, Order Date: 2021-10-05\n",
      "Customer ID: 2, Name: AMAN, Phone: 9785463215, City: NOIDA, Gender: M, Order ID: 50, Order Amount: 2000, Order Date: 2021-10-06\n",
      "Customer ID: 3, Name: NEHA, Phone: 9999999998, City: MUMBAI, Gender: F, Order ID: 20, Order Amount: 1500, Order Date: 2021-10-12\n",
      "Customer ID: 4, Name: MEGHA, Phone: 9994562399, City: KOLKATA, Gender: F, Order ID: 30, Order Amount: 3500, Order Date: 2021-08-16\n",
      "Customer ID: 5, Name: PULKIT, Phone: 7895999999, City: LUCKNOW, Gender: M, Order ID: 25, Order Amount: 30500, Order Date: 2021-09-16\n"
     ]
    }
   ],
   "source": [
    "mydb = mysql.connector.connect(\n",
    "    host=\"localhost\",\n",
    "    user=\"root\",  \n",
    "    password=\"hellosql\",  \n",
    "    database=\"e_commerce\"  \n",
    ")\n",
    "\n",
    "\n",
    "cursorObject = mydb.cursor()\n",
    "\n",
    "\n",
    "query = \"\"\"\n",
    "SELECT c.CUS_ID, c.CUS_NAME, c.CUS_PHONE, c.CUS_CITY, c.CUS_GENDER, o.ORD_ID, o.ORD_AMOUNT, o.ORD_DATE\n",
    "FROM customer c\n",
    "LEFT JOIN orders o ON c.CUS_ID = o.CUS_ID;\n",
    "\"\"\"\n",
    "\n",
    "cursorObject.execute(query)\n",
    "\n",
    "\n",
    "result = cursorObject.fetchall()\n",
    "\n",
    "\n",
    "for row in result:\n",
    "    print(f\"Customer ID: {row[0]}, Name: {row[1]}, Phone: {row[2]}, City: {row[3]}, Gender: {row[4]}, Order ID: {row[5]}, Order Amount: {row[6]}, Order Date: {row[7]}\")\n",
    "\n",
    "\n",
    "cursorObject.close()\n",
    "mydb.close()"
   ]
  },
  {
   "cell_type": "markdown",
   "id": "0a72afe3",
   "metadata": {
    "id": "0a72afe3"
   },
   "source": [
    "**NOTE:** Always close an open connection once you are done with the database operations"
   ]
  },
  {
   "cell_type": "markdown",
   "id": "8c88f479",
   "metadata": {
    "id": "8c88f479"
   },
   "source": [
    "## Happy Learning:)"
   ]
  }
 ],
 "metadata": {
  "colab": {
   "provenance": []
  },
  "kernelspec": {
   "display_name": "Python 3 (ipykernel)",
   "language": "python",
   "name": "python3"
  },
  "language_info": {
   "codemirror_mode": {
    "name": "ipython",
    "version": 3
   },
   "file_extension": ".py",
   "mimetype": "text/x-python",
   "name": "python",
   "nbconvert_exporter": "python",
   "pygments_lexer": "ipython3",
   "version": "3.12.3"
  }
 },
 "nbformat": 4,
 "nbformat_minor": 5
}
